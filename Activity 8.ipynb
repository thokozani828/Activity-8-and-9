{
 "cells": [
  {
   "cell_type": "code",
   "execution_count": 4,
   "id": "2e8a4a8e-7a8c-4843-bb62-402e9ebfe10c",
   "metadata": {},
   "outputs": [
    {
     "name": "stdout",
     "output_type": "stream",
     "text": [
      "[22, 23, 27, 28]\n"
     ]
    }
   ],
   "source": [
    "elements = [28, 23, 27, 22]\n",
    "\n",
    "def insertion_sort(elements):\n",
    "    \n",
    "    for i in range(1, len(elements)):\n",
    "        \n",
    "        key = elements[i]\n",
    "        \n",
    "        j = i - 1\n",
    "        \n",
    "        while j >= 0 and key < elements[j]:\n",
    "            \n",
    "            elements[j + 1] = elements[j]\n",
    "            \n",
    "            j -= 1\n",
    "            \n",
    "        elements[j + 1] = key\n",
    "        \n",
    "    return elements\n",
    "\n",
    "sorted_Elements = insertion_sort(elements)\n",
    "\n",
    "print(sorted_Elements)\n"
   ]
  },
  {
   "cell_type": "code",
   "execution_count": 5,
   "id": "9e38b122-b5f4-4cad-a46f-47227c365b22",
   "metadata": {},
   "outputs": [
    {
     "name": "stdout",
     "output_type": "stream",
     "text": [
      "[12, 13, 17, 18]\n"
     ]
    }
   ],
   "source": [
    "elements=[18,13,17,12]\n",
    "\n",
    "def insertion_sort(elements):\n",
    "    \n",
    "    for i in range(1, len(elements)):\n",
    "        \n",
    "        key = elements[i]\n",
    "        \n",
    "        j = i - 1\n",
    "        \n",
    "        while j >= 0 and key < elements[j]:\n",
    "            \n",
    "            elements[j + 1] = elements[j]\n",
    "            \n",
    "            j -= 1\n",
    "            \n",
    "        elements[j + 1] = key\n",
    "        \n",
    "    return elements\n",
    "\n",
    "sorted_Elements = insertion_sort(elements)\n",
    "\n",
    "print(sorted_Elements)"
   ]
  },
  {
   "cell_type": "code",
   "execution_count": 7,
   "id": "d4aa6e22-eca3-4b85-9926-21bdf3c2b0f7",
   "metadata": {},
   "outputs": [
    {
     "name": "stdout",
     "output_type": "stream",
     "text": [
      "[2, 3, 7, 8]\n"
     ]
    }
   ],
   "source": [
    "elements=[8,3,7,2]\n",
    "\n",
    "def insertion_sort(elements):\n",
    "    \n",
    "    for i in range(1, len(elements)):\n",
    "        \n",
    "        key = elements[i]\n",
    "        \n",
    "        j = i - 1\n",
    "        \n",
    "        while j >= 0 and key < elements[j]:\n",
    "            \n",
    "            elements[j + 1] = elements[j]\n",
    "            \n",
    "            j -= 1\n",
    "            \n",
    "        elements[j + 1] = key\n",
    "        \n",
    "    return elements\n",
    "\n",
    "sorted_Elements = insertion_sort(elements)\n",
    "\n",
    "print(sorted_Elements)"
   ]
  },
  {
   "cell_type": "markdown",
   "id": "da7906ed-fdb3-4d51-80e5-b7d328325119",
   "metadata": {},
   "source": [
    "elements = [28, 23, 27, 22]\n",
    "This line initializes the list elements.\n",
    "\n",
    "def insertion_sort(elements):\n",
    "This line defines a function named insertion_sort that takes a single argument elements, which is expected to be a list of numbers.\n",
    "\n",
    " for i in range(1, len(elements)):\n",
    "This line initiates a for-loop that iterates  list elements, starting from 1 up to the length of the list minus one. The range(1, len(elements)) function generates these indices. The loop variable i represents the current index of the element to be inserted into the sorted portion of the list.\n",
    "\n",
    " key = elements[i]\n",
    "This line assigns the value of the current element (at index i) to the variable key. This key will be compared with elements in the sorted portion of the list to find its correct position.\n",
    "\n",
    " j = i - 1\n",
    "This line initializes another variable j to the index immediately before i. This variable is used to traverse the sorted portion of the list from right to left, comparing the key with the elements in the sorted portion.\n",
    "\n",
    "while j >= 0 and key < elements[j]:\n",
    "This line begins a while-loop that continues as long as j is non-negative and the key is less than the current element elements[j]. This condition ensures that elements larger than the key are shifted to the right, making space for the key in its correct position.\n",
    "\n",
    " elements[j + 1] = elements[j]\n",
    "Within the while-loop, this line shifts the element elements[j] one position to the right by assigning it to elements[j + 1]. This effectively moves the larger element one step right to make room for the key.\n",
    "\n",
    "j -= 1\n",
    "This line decrements j by 1, moving the index to the left, allowing the loop to compare the key with the next element in the sorted portion.\n",
    "\n",
    "elements[j + 1] = key\n",
    "Once the while-loop exits, this line inserts the key into its correct position in the sorted portion of the list. The correct position is j + 1 because j was decremented after the last comparison.\n",
    "\n",
    "return elements\n",
    "This line returns the sorted list elements. After the for-loop completes, the list is fully sorted.\n",
    "\n",
    "sorted_Elements = insertion_sort(elements)\n",
    "This line calls the insertion_sort function with the elements list as its argument. The sorted list is then assigned to the variable sorted_Elements.\n",
    "\n",
    "print(sorted_Elements)\n",
    "This line prints the sorted list sorted_Elements.\n"
   ]
  },
  {
   "cell_type": "code",
   "execution_count": null,
   "id": "0eba31dd-2d87-4394-9462-4b06c99eb8a7",
   "metadata": {},
   "outputs": [],
   "source": []
  }
 ],
 "metadata": {
  "kernelspec": {
   "display_name": "Python 3 (ipykernel)",
   "language": "python",
   "name": "python3"
  },
  "language_info": {
   "codemirror_mode": {
    "name": "ipython",
    "version": 3
   },
   "file_extension": ".py",
   "mimetype": "text/x-python",
   "name": "python",
   "nbconvert_exporter": "python",
   "pygments_lexer": "ipython3",
   "version": "3.12.3"
  }
 },
 "nbformat": 4,
 "nbformat_minor": 5
}
