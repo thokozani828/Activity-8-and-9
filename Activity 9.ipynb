{
 "cells": [
  {
   "cell_type": "code",
   "execution_count": 11,
   "id": "76744490-c21e-4ed5-becb-828196102169",
   "metadata": {},
   "outputs": [
    {
     "name": "stdout",
     "output_type": "stream",
     "text": [
      "[22, 23, 27, 28]\n"
     ]
    }
   ],
   "source": [
    "numElements = [28, 23, 27, 22]\n",
    "\n",
    "def selection_sort(numElements):\n",
    "    \n",
    "    n = len(numElements)\n",
    "    \n",
    "    for i in range(n):\n",
    "        \n",
    "        min_index = i\n",
    "        \n",
    "        for j in range(i + 1, n):\n",
    "            \n",
    "            if numElements[j] < numElements[min_index]:\n",
    "                \n",
    "                min_index = j\n",
    "                \n",
    "        numElements[i], numElements[min_index] = numElements[min_index], numElements[i]\n",
    "        \n",
    "    return numElements\n",
    "\n",
    "\n",
    "sorted_numElements = selection_sort(numElements)\n",
    "\n",
    "print(sorted_numElements)\n"
   ]
  },
  {
   "cell_type": "code",
   "execution_count": 12,
   "id": "3be81f9d-225b-4866-938a-df9aae5395b0",
   "metadata": {},
   "outputs": [
    {
     "name": "stdout",
     "output_type": "stream",
     "text": [
      "[12, 13, 17, 18]\n"
     ]
    }
   ],
   "source": [
    "numElements=[18,13,17,12]\n",
    "\n",
    "\n",
    "def selection_sort(numElements):\n",
    "    \n",
    "    n = len(numElements)\n",
    "    \n",
    "    for i in range(n):\n",
    "        \n",
    "        min_index = i\n",
    "        \n",
    "        for j in range(i + 1, n):\n",
    "            \n",
    "            if numElements[j] < numElements[min_index]:\n",
    "                \n",
    "                min_index = j\n",
    "                \n",
    "        numElements[i], numElements[min_index] = numElements[min_index], numElements[i]\n",
    "        \n",
    "    return numElements\n",
    "\n",
    "\n",
    "sorted_numElements = selection_sort(numElements)\n",
    "\n",
    "print(sorted_numElements)\n"
   ]
  },
  {
   "cell_type": "code",
   "execution_count": 13,
   "id": "7cc8fb1d-7a04-4140-bbdf-5ef416be760d",
   "metadata": {},
   "outputs": [
    {
     "name": "stdout",
     "output_type": "stream",
     "text": [
      "[2, 3, 7, 8]\n"
     ]
    }
   ],
   "source": [
    "numElements=[8,3,7,2]\n",
    "\n",
    "\n",
    "def selection_sort(numElements):\n",
    "    \n",
    "    n = len(numElements)\n",
    "    \n",
    "    for i in range(n):\n",
    "        \n",
    "        min_index = i\n",
    "        \n",
    "        for j in range(i + 1, n):\n",
    "            \n",
    "            if numElements[j] < numElements[min_index]:\n",
    "                \n",
    "                min_index = j\n",
    "                \n",
    "        numElements[i], numElements[min_index] = numElements[min_index], numElements[i]\n",
    "        \n",
    "    return numElements\n",
    "\n",
    "\n",
    "sorted_numElements = selection_sort(numElements)\n",
    "\n",
    "print(sorted_numElements)\n"
   ]
  },
  {
   "cell_type": "markdown",
   "id": "c1ea264a-4547-4201-98aa-e2a654d478ca",
   "metadata": {},
   "source": [
    "numElements = [28, 23, 27, 22]\n",
    "This line initializes the list numElements.\n",
    "\n",
    "def selection_sort(numElements):\n",
    "This line defines a function named selection_sort that takes a single argument numElements, which is expected to be a list of numbers.\n",
    "\n",
    "n = len(numElements)\n",
    "Explanation:\n",
    "This line calculates the length of the list numElements and stores it in the variable n. This length is used to control the iterations of the outer loop.\n",
    "\n",
    "\n",
    "for i in range(n):\n",
    "This line initiates a for-loop that iterates over the indices of the list numElements, from 0 up to n - 1. The loop variable i represents the current position in the list where the minimum element from the unsorted portion will be placed.\n",
    "\n",
    "min_index = i\n",
    "This line initializes min_index to i. This variable will hold the index of the smallest element found in the unsorted portion.\n",
    "\n",
    "for j in range(i + 1, n):\n",
    "This line initiates an inner for-loop that iterates over the indices of the unsorted portion of the list, starting from i + 1 up to n - 1. The loop variable j represents the current index being compared to find the minimum element.\n",
    "\n",
    "if numElements[j] < numElements[min_index]:\n",
    "This line checks if the current element numElements[j] is less than the current minimum element numElements[min_index]. If this condition is true, it means numElements[j] is the new minimum element in the unsorted portion.\n",
    "\n",
    "min_index = j\n",
    "If the condition in the previous line is true, this line updates min_index to j, indicating that the new minimum element is at index j.\n",
    "\n",
    "\n",
    "numElements[i], numElements[min_index] = numElements[min_index], numElements[i]\n",
    "After the inner loop completes, this line swaps the minimum element found at index min_index with the first element of the unsorted portion at index i. This places the minimum element in its correct sorted position.\n",
    "\n",
    "return numElements\n",
    "This line returns the sorted list numElements. After the outer loop completes, the list is fully sorted.\n",
    "\n",
    "sorted_numElements = selection_sort(numElements)\n",
    "This line calls the selection_sort function with the nums list as its argument. The sorted list is then assigned to the variable sorted_nums.\n",
    "e\n",
    "\n",
    "print(sorted_numElements)\n",
    "This line prints the sorted list sorted_numElements"
   ]
  }
 ],
 "metadata": {
  "kernelspec": {
   "display_name": "Python 3 (ipykernel)",
   "language": "python",
   "name": "python3"
  },
  "language_info": {
   "codemirror_mode": {
    "name": "ipython",
    "version": 3
   },
   "file_extension": ".py",
   "mimetype": "text/x-python",
   "name": "python",
   "nbconvert_exporter": "python",
   "pygments_lexer": "ipython3",
   "version": "3.12.3"
  }
 },
 "nbformat": 4,
 "nbformat_minor": 5
}
